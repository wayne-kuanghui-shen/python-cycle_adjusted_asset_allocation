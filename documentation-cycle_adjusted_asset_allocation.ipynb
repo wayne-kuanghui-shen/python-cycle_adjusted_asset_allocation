{
 "cells": [
  {
   "cell_type": "markdown",
   "id": "3c3fce79",
   "metadata": {},
   "source": [
    "# Python project: *Navigating the Economic Cycle for Optimal Asset Allocation*\n",
    "## Wayne(Kuanghui) Shen\n",
    "\n",
    "### **1 Introduction**\n",
    "\n",
    "\n",
    "Economic forces are critical to asset allocation since the return of assets are fundamentally driven by (1)growth, which reflects the revenue of a company, and (2)inflation, which reflects the cost of a company. And the valuation of an asset is also determined by the expected future growth rate and liquidity, which are associated with the monetary policy. However, in Harry Markowitz (1952)’s Modern Portfolio Theory, we only consider the return and volatility of an asset derived from the entire history of the data available while overlooking the importance of the economic cycle. **So this study aims to explore the relative performance of various assets in different stage of the economic cycle and seek to develop an asset allocation strategy that can better navigates through different stages of the economic cycle.** The potential findings of this study could enhance the Black-Litterman Model, which allows us to combine a prior estimate of returns, in estimating prior returns by incorporating the effect of economic forces on asset class relative performance.\n",
    "\n",
    "### **2 Data**\n",
    "\n",
    "<u>This study uses the data collected from two datasets – Financial dataset and Economic dataset. All the series are collected from Bloomberg terminal</u>, and the original source can be located in US Census Bureau, Federal Reserve, Institute for Supply Management, S&P Global, MSCI, FTSE Russell and Bloomberg. For future researchers to follow-up on this study, free data can be accessed from Yahoo Finance by searching for related ETFs.\n",
    "\n",
    "\n",
    "<u>**The Financial Dataset** is a daily dataset from 1/1/1990 to 11/27/2023 containing the close prices of various asset classes – Equity, Fixed Income, Commodity and Real Estate.</u> In Equity, subsectors by equity region, equity style, equity industry and equity market capitalization are included. Similarly, subsectors by issuer are included in Fixed Income. <u>The dataset contains 8846 rows and 17 columns</u> including “date” and the following 16 series:\n",
    "- Equity\n",
    "    - MSCI World ex. USA Index (developed market)\n",
    "    - MSCI Emerging Market Index (emerging market)\n",
    "    - S&P 500 Index (US market & large-cap)\n",
    "    - Russell 2000 Index (small-cap)\n",
    "    - Russell 1000 Growth Index (growth)\n",
    "    - Russell 1000 Value Index (value)\n",
    "    - S&P 500 GICS Consumer Discretionary Sector Index \n",
    "    - S&P 500 GICS Industrial Sector Index\n",
    "    - S&P 500 GICS Financial Sector Index\n",
    "    - S&P 500 GICS Consumer Staple Sector Index\n",
    "    - S&P 500 GICS Health Care Sector Index\n",
    "    - S&P 500 GICS Utility Sector Index\n",
    "- Fixed Income\n",
    "    - Bloomberg US Treasury Total Return Index \n",
    "    - Bloomberg US Corporate Total Return Value (investment-grade corporate bond)\n",
    "    - Bloomberg US Corporate High Yield Total Return Index\n",
    "- Commodity: Bloomberg Commodity Total Return Index\n",
    "- Real Estate: FTSE NAREIT All Equity REITS Total Return Index\n",
    "\n",
    "<u>**The Economic Dataset** is a monthly dataset from Jan 1990 to Oct 2023 containing indicators that represent the economic growth, inflation and monetary policy of the United States. The dataset contains 406 rows and 4 columns</u> including “date” and the following 3 series:\n",
    "- US ISM Manufacturing Purchasing Managers Index\n",
    "- US Consumer Price Index YOY\n",
    "- Federal Funds Target Rate - Upper Bound\n",
    "\n",
    "### **3 Conclusion**\n",
    "\n",
    "- <u>Historical data shows that across economic cycles, some assets outperformed the others in a significant way.</u> For example, equity-liked assets such as US growth stocks, US small-caps and global REITs generated an average annualized return of around 10%, while fixed income and commodities typically returned 5% or less than in the long run.\n",
    "- <u>However, different assets behaved differently within economic cycles.</u> For example, small-cap stocks returned on average of 17.5% in the Early Cycle but declined by 9.6% in the Recession stage. On the other hand, US treasuries went up 8% in Recession but only 3.5% in the Mid Cycle.\n",
    "- Note: I divided the economic cycle into four stages - Recession, Early Cycle, Mid Cycle and Late Cycle - based on the level of growth and inflation. Specifically, when ISM is below 50 and CPI is below 2%, we are in Recession. ISM above 50 while CPI below 2% represents Early Cycle and so on. \n",
    "- <u>Generally, (1)equities performed the best in the Early Cycle, (2)fixed income had the highest return in the Recession stage and (3)commodities which are more closely related to inflation is the type of asset you want to own in the Mid Cycle.</u>\n",
    "- <u>The relative performance of assets across different economic cycles has a huge implication on asset allocation.</u> If you are able to identify the macroeconomic dynamics, you can shift your portfolios to the assets that benefit from that stage of the cycle and genrerate excess return.\n",
    "- To further explore the potentials of navigating the economic cycle, I built a \"Cycle-Adjusted Portfolio\" which dynamically adjusts the allocation based on the economic cycle and compared it with the performance of the \"Equal-Weighted Portfolio\" (100% / 13 assets = 7.69% each). <u>In the \"Cycle-Adjusted Portfolio\", I doubled the weights (7.69% * 2 = 15.38%) of the top 5 performaning assets in each cycle and reduce the bottom 5 assets to 0%. The result shows that this portfolio had an average annualized return of 10.38% vs. the 7.28% of the \"Equal-Weighted Portfolio\". That is, if you invested 1 dollar in January of 1990, you would get 23.5 dollar instead of 9.1 dollarby October 2023.</u>"
   ]
  }
 ],
 "metadata": {
  "kernelspec": {
   "display_name": "Python 3 (ipykernel)",
   "language": "python",
   "name": "python3"
  },
  "language_info": {
   "codemirror_mode": {
    "name": "ipython",
    "version": 3
   },
   "file_extension": ".py",
   "mimetype": "text/x-python",
   "name": "python",
   "nbconvert_exporter": "python",
   "pygments_lexer": "ipython3",
   "version": "3.11.2"
  }
 },
 "nbformat": 4,
 "nbformat_minor": 5
}
